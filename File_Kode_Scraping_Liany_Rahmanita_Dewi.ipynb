{
  "nbformat": 4,
  "nbformat_minor": 0,
  "metadata": {
    "colab": {
      "provenance": []
    },
    "kernelspec": {
      "name": "python3",
      "display_name": "Python 3"
    },
    "language_info": {
      "name": "python"
    }
  },
  "cells": [
    {
      "cell_type": "code",
      "source": [
        "!pip install google-play-scraper"
      ],
      "metadata": {
        "colab": {
          "base_uri": "https://localhost:8080/"
        },
        "id": "2H1QGygEu7yD",
        "outputId": "aea2c5f8-f7d8-4f0d-ee10-9f6727cc0990"
      },
      "execution_count": 7,
      "outputs": [
        {
          "output_type": "stream",
          "name": "stdout",
          "text": [
            "Requirement already satisfied: google-play-scraper in /usr/local/lib/python3.12/dist-packages (1.2.7)\n"
          ]
        }
      ]
    },
    {
      "cell_type": "code",
      "execution_count": 8,
      "metadata": {
        "colab": {
          "base_uri": "https://localhost:8080/"
        },
        "id": "UvKXIpDEumal",
        "outputId": "9fc0d94d-1d39-4d44-f310-232c3c06acb3",
        "collapsed": true
      },
      "outputs": [
        {
          "output_type": "stream",
          "name": "stdout",
          "text": [
            "Jumlah ulasan: 10000\n",
            "Contoh ulasan:\n",
            "{'reviewId': 'e58bfc99-2e53-4484-a722-7bd02f3c635a', 'userName': 'Pengguna Google', 'userImage': 'https://play-lh.googleusercontent.com/EGemoI2NTXmTsBVtJqk8jxF9rh8ApRWfsIMQSt2uE4OcpQqbFu7f7NbTK05lx80nuSijCz7sc3a277R67g', 'content': 'ok', 'score': 5, 'thumbsUpCount': 0, 'reviewCreatedVersion': '2.25.24.78', 'at': datetime.datetime(2025, 9, 21, 13, 28, 42), 'replyContent': None, 'repliedAt': None, 'appVersion': '2.25.24.78'}\n",
            "Dataset terdiri dari 10000 baris dan 11 kolom.\n",
            "\n",
            "Detail tipe data dan non-null values tiap kolom:\n",
            "<class 'pandas.core.frame.DataFrame'>\n",
            "RangeIndex: 10000 entries, 0 to 9999\n",
            "Data columns (total 11 columns):\n",
            " #   Column                Non-Null Count  Dtype         \n",
            "---  ------                --------------  -----         \n",
            " 0   reviewId              10000 non-null  object        \n",
            " 1   userName              10000 non-null  object        \n",
            " 2   userImage             10000 non-null  object        \n",
            " 3   content               10000 non-null  object        \n",
            " 4   score                 10000 non-null  int64         \n",
            " 5   thumbsUpCount         10000 non-null  int64         \n",
            " 6   reviewCreatedVersion  7777 non-null   object        \n",
            " 7   at                    10000 non-null  datetime64[ns]\n",
            " 8   replyContent          0 non-null      object        \n",
            " 9   repliedAt             0 non-null      object        \n",
            " 10  appVersion            7777 non-null   object        \n",
            "dtypes: datetime64[ns](1), int64(2), object(8)\n",
            "memory usage: 859.5+ KB\n",
            "\n",
            "Contoh data awal:\n",
            "                               reviewId         userName  \\\n",
            "0  e58bfc99-2e53-4484-a722-7bd02f3c635a  Pengguna Google   \n",
            "1  de49f6ff-69dc-4c7a-92b2-c30fabecb05a  Pengguna Google   \n",
            "2  51cb3416-7da7-4554-81dc-4578aec2541e  Pengguna Google   \n",
            "3  b523a0ba-e07f-4038-9b14-b6d6a9e37df6  Pengguna Google   \n",
            "4  bd71cae9-39eb-406e-ba4b-7ef09a24d0f5  Pengguna Google   \n",
            "\n",
            "                                           userImage  \\\n",
            "0  https://play-lh.googleusercontent.com/EGemoI2N...   \n",
            "1  https://play-lh.googleusercontent.com/EGemoI2N...   \n",
            "2  https://play-lh.googleusercontent.com/EGemoI2N...   \n",
            "3  https://play-lh.googleusercontent.com/EGemoI2N...   \n",
            "4  https://play-lh.googleusercontent.com/EGemoI2N...   \n",
            "\n",
            "                                             content  score  thumbsUpCount  \\\n",
            "0                                                 ok      5              0   \n",
            "1                        pengalaman di wa ga dibalas      3              0   \n",
            "2                                 supaya lebih mudah      5              0   \n",
            "3  Masalah saya adalah sulit untuk mendownload fo...      5              0   \n",
            "4                                         nmr brunai      5              0   \n",
            "\n",
            "  reviewCreatedVersion                  at replyContent repliedAt  appVersion  \n",
            "0           2.25.24.78 2025-09-21 13:28:42         None      None  2.25.24.78  \n",
            "1           2.25.25.73 2025-09-21 13:28:12         None      None  2.25.25.73  \n",
            "2           2.25.25.73 2025-09-21 13:27:27         None      None  2.25.25.73  \n",
            "3           2.25.25.73 2025-09-21 13:26:49         None      None  2.25.25.73  \n",
            "4           2.25.25.73 2025-09-21 13:26:24         None      None  2.25.25.73  \n"
          ]
        }
      ],
      "source": [
        "#Langkah 1: Scraping Data\n",
        "# Mengambil ulasan aplikasi WhatsApp\n",
        "\n",
        "from google_play_scraper import Sort, reviews\n",
        "import pandas as pd\n",
        "\n",
        "app_id = 'com.whatsapp'  # ID aplikasi WhatsApp\n",
        "\n",
        "def get_reviews(app_id, lang='id', count=10000, sort=Sort.NEWEST, filter_score_with=None, continuation_token=None):\n",
        "    try:\n",
        "        result, continuation_token = reviews(\n",
        "            app_id,\n",
        "            lang=lang,\n",
        "            country='id',\n",
        "            sort=sort,\n",
        "            count=count,\n",
        "            filter_score_with=filter_score_with,\n",
        "            continuation_token=continuation_token\n",
        "        )\n",
        "        return result, continuation_token\n",
        "    except Exception as e:\n",
        "        print(\"Error:\", e)\n",
        "        return None, None\n",
        "\n",
        "reviews_result, continuation_token = get_reviews(app_id)\n",
        "if reviews_result is not None:\n",
        "    print(\"Jumlah ulasan:\", len(reviews_result))\n",
        "    if len(reviews_result) > 0:\n",
        "        print(\"Contoh ulasan:\")\n",
        "        print(reviews_result[0])\n",
        "    else:\n",
        "        print(\"Tidak ada ulasan yang ditemukan.\")\n",
        "\n",
        "    # Menyimpan data ulasan ke dalam file CSV\n",
        "    df = pd.DataFrame(reviews_result)\n",
        "    df.to_csv('dataset_hasil_scriping.csv', index=False)\n",
        "else:\n",
        "    print(\"Tidak dapat mengambil ulasan.\")\n",
        "\n",
        "# Menampilkan ukuran dataset\n",
        "baris, kolom = df.shape\n",
        "print(f\"Dataset terdiri dari {baris} baris dan {kolom} kolom.\")\n",
        "\n",
        "# Melihat struktur data dan tipe masing-masing kolom\n",
        "print(\"\\nDetail tipe data dan non-null values tiap kolom:\")\n",
        "df.info()\n",
        "\n",
        "\n",
        "  # Meninjau contoh data teratas\n",
        "print(\"\\nContoh data awal:\")\n",
        "print(df.head(5))"
      ]
    }
  ]
}