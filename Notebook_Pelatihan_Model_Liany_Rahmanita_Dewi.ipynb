{
  "nbformat": 4,
  "nbformat_minor": 0,
  "metadata": {
    "colab": {
      "provenance": []
    },
    "kernelspec": {
      "name": "python3",
      "display_name": "Python 3"
    },
    "language_info": {
      "name": "python"
    }
  },
  "cells": [
    {
      "cell_type": "markdown",
      "source": [
        "Nama : Liany Rahmanita Dewi\n",
        "Grup : M-02"
      ],
      "metadata": {
        "id": "Mu8AamoA-fKO"
      }
    },
    {
      "cell_type": "markdown",
      "source": [
        "Import Library"
      ],
      "metadata": {
        "id": "ckt8cOYHgnM-"
      }
    },
    {
      "cell_type": "code",
      "source": [
        "!pip install google-play-scraper"
      ],
      "metadata": {
        "colab": {
          "base_uri": "https://localhost:8080/"
        },
        "id": "x4NkmB2nhBIA",
        "outputId": "a569d584-ea6b-4ed2-a0f6-dc68b66257ed"
      },
      "execution_count": 1,
      "outputs": [
        {
          "output_type": "stream",
          "name": "stdout",
          "text": [
            "Collecting google-play-scraper\n",
            "  Downloading google_play_scraper-1.2.7-py3-none-any.whl.metadata (50 kB)\n",
            "\u001b[2K     \u001b[90m━━━━━━━━━━━━━━━━━━━━━━━━━━━━━━━━━━━━━━━━\u001b[0m \u001b[32m50.2/50.2 kB\u001b[0m \u001b[31m1.3 MB/s\u001b[0m eta \u001b[36m0:00:00\u001b[0m\n",
            "\u001b[?25hDownloading google_play_scraper-1.2.7-py3-none-any.whl (28 kB)\n",
            "Installing collected packages: google-play-scraper\n",
            "Successfully installed google-play-scraper-1.2.7\n"
          ]
        }
      ]
    },
    {
      "cell_type": "code",
      "execution_count": 2,
      "metadata": {
        "id": "b6bH9namgZmJ"
      },
      "outputs": [],
      "source": [
        "# Import libraries\n",
        "import re\n",
        "import string\n",
        "from collections import Counter\n",
        "\n",
        "import numpy as np\n",
        "import pandas as pd\n",
        "\n",
        "from google_play_scraper import app, reviews\n",
        "from google_play_scraper import Sort, reviews\n",
        "\n",
        "from imblearn.over_sampling import SMOTE\n",
        "\n",
        "from sklearn.ensemble import RandomForestClassifier\n",
        "from sklearn.feature_extraction.text import TfidfVectorizer\n",
        "from sklearn.metrics import classification_report, accuracy_score\n",
        "from sklearn.model_selection import train_test_split\n",
        "from sklearn.preprocessing import LabelEncoder\n",
        "from sklearn.svm import SVC\n",
        "\n",
        "from tensorflow.keras.callbacks import EarlyStopping, ReduceLROnPlateau\n",
        "from tensorflow.keras.layers import Dense, Dropout, Embedding, LSTM\n",
        "from tensorflow.keras.models import Sequential\n",
        "from tensorflow.keras.preprocessing.sequence import pad_sequences\n",
        "from tensorflow.keras.preprocessing.text import Tokenizer"
      ]
    },
    {
      "cell_type": "code",
      "source": [
        "pip install imbalanced-learn"
      ],
      "metadata": {
        "colab": {
          "base_uri": "https://localhost:8080/"
        },
        "id": "b13OaDVggl2W",
        "outputId": "2afb98af-9ae4-4972-bf74-8a1445b5aa17"
      },
      "execution_count": 3,
      "outputs": [
        {
          "output_type": "stream",
          "name": "stdout",
          "text": [
            "Requirement already satisfied: imbalanced-learn in /usr/local/lib/python3.12/dist-packages (0.14.0)\n",
            "Requirement already satisfied: numpy<3,>=1.25.2 in /usr/local/lib/python3.12/dist-packages (from imbalanced-learn) (2.0.2)\n",
            "Requirement already satisfied: scipy<2,>=1.11.4 in /usr/local/lib/python3.12/dist-packages (from imbalanced-learn) (1.16.1)\n",
            "Requirement already satisfied: scikit-learn<2,>=1.4.2 in /usr/local/lib/python3.12/dist-packages (from imbalanced-learn) (1.6.1)\n",
            "Requirement already satisfied: joblib<2,>=1.2.0 in /usr/local/lib/python3.12/dist-packages (from imbalanced-learn) (1.5.2)\n",
            "Requirement already satisfied: threadpoolctl<4,>=2.0.0 in /usr/local/lib/python3.12/dist-packages (from imbalanced-learn) (3.6.0)\n"
          ]
        }
      ]
    },
    {
      "cell_type": "markdown",
      "source": [
        "Dataset"
      ],
      "metadata": {
        "id": "JmOYeKynhE3j"
      }
    },
    {
      "cell_type": "code",
      "source": [
        "# Memuat Dataset\n",
        "df = pd.read_csv('dataset_hasil_scriping.csv')\n"
      ],
      "metadata": {
        "id": "rgr3-yr4lkVx"
      },
      "execution_count": 4,
      "outputs": []
    },
    {
      "cell_type": "code",
      "source": [
        "# Memuat Dataset dan Melakukan Analisis Data Eksplorasi (EDA)\n",
        "df = pd.read_csv('dataset_hasil_scriping.csv')\n",
        "print(\"Dataset:\")\n",
        "print(df.head())\n",
        "print(\"Informasi Dataset:\")\n",
        "print(df.info())\n",
        "print(\"Statistik Deskriptif:\")\n",
        "print(df.describe())"
      ],
      "metadata": {
        "colab": {
          "base_uri": "https://localhost:8080/"
        },
        "id": "EBsOOeV6mXI6",
        "outputId": "f2d86228-7bdd-47af-b107-928815a05c56"
      },
      "execution_count": 5,
      "outputs": [
        {
          "output_type": "stream",
          "name": "stdout",
          "text": [
            "Dataset:\n",
            "                               reviewId         userName  \\\n",
            "0  e58bfc99-2e53-4484-a722-7bd02f3c635a  Pengguna Google   \n",
            "1  de49f6ff-69dc-4c7a-92b2-c30fabecb05a  Pengguna Google   \n",
            "2  51cb3416-7da7-4554-81dc-4578aec2541e  Pengguna Google   \n",
            "3  b523a0ba-e07f-4038-9b14-b6d6a9e37df6  Pengguna Google   \n",
            "4  bd71cae9-39eb-406e-ba4b-7ef09a24d0f5  Pengguna Google   \n",
            "\n",
            "                                           userImage  \\\n",
            "0  https://play-lh.googleusercontent.com/EGemoI2N...   \n",
            "1  https://play-lh.googleusercontent.com/EGemoI2N...   \n",
            "2  https://play-lh.googleusercontent.com/EGemoI2N...   \n",
            "3  https://play-lh.googleusercontent.com/EGemoI2N...   \n",
            "4  https://play-lh.googleusercontent.com/EGemoI2N...   \n",
            "\n",
            "                                             content  score  thumbsUpCount  \\\n",
            "0                                                 ok      5              0   \n",
            "1                        pengalaman di wa ga dibalas      3              0   \n",
            "2                                 supaya lebih mudah      5              0   \n",
            "3  Masalah saya adalah sulit untuk mendownload fo...      5              0   \n",
            "4                                         nmr brunai      5              0   \n",
            "\n",
            "  reviewCreatedVersion                   at  replyContent  repliedAt  \\\n",
            "0           2.25.24.78  2025-09-21 13:28:42           NaN        NaN   \n",
            "1           2.25.25.73  2025-09-21 13:28:12           NaN        NaN   \n",
            "2           2.25.25.73  2025-09-21 13:27:27           NaN        NaN   \n",
            "3           2.25.25.73  2025-09-21 13:26:49           NaN        NaN   \n",
            "4           2.25.25.73  2025-09-21 13:26:24           NaN        NaN   \n",
            "\n",
            "   appVersion  \n",
            "0  2.25.24.78  \n",
            "1  2.25.25.73  \n",
            "2  2.25.25.73  \n",
            "3  2.25.25.73  \n",
            "4  2.25.25.73  \n",
            "Informasi Dataset:\n",
            "<class 'pandas.core.frame.DataFrame'>\n",
            "RangeIndex: 10000 entries, 0 to 9999\n",
            "Data columns (total 11 columns):\n",
            " #   Column                Non-Null Count  Dtype  \n",
            "---  ------                --------------  -----  \n",
            " 0   reviewId              10000 non-null  object \n",
            " 1   userName              10000 non-null  object \n",
            " 2   userImage             10000 non-null  object \n",
            " 3   content               10000 non-null  object \n",
            " 4   score                 10000 non-null  int64  \n",
            " 5   thumbsUpCount         10000 non-null  int64  \n",
            " 6   reviewCreatedVersion  7777 non-null   object \n",
            " 7   at                    10000 non-null  object \n",
            " 8   replyContent          0 non-null      float64\n",
            " 9   repliedAt             0 non-null      float64\n",
            " 10  appVersion            7777 non-null   object \n",
            "dtypes: float64(2), int64(2), object(7)\n",
            "memory usage: 859.5+ KB\n",
            "None\n",
            "Statistik Deskriptif:\n",
            "              score  thumbsUpCount  replyContent  repliedAt\n",
            "count  10000.000000   10000.000000           0.0        0.0\n",
            "mean       3.491200       2.276100           NaN        NaN\n",
            "std        1.768399      62.588775           NaN        NaN\n",
            "min        1.000000       0.000000           NaN        NaN\n",
            "25%        1.000000       0.000000           NaN        NaN\n",
            "50%        5.000000       0.000000           NaN        NaN\n",
            "75%        5.000000       0.000000           NaN        NaN\n",
            "max        5.000000    4011.000000           NaN        NaN\n"
          ]
        }
      ]
    },
    {
      "cell_type": "markdown",
      "source": [
        "Data Preprocessing"
      ],
      "metadata": {
        "id": "Me0TEGbmkIH5"
      }
    },
    {
      "cell_type": "code",
      "source": [
        "# Menghapus baris yang tidak memiliki nilai pada kolom 'username'\n",
        "df_cleaned = df[df['userName'].notna()]\n",
        "\n",
        "# Menampilkan jumlah nilai kosong setelah pembersihan\n",
        "print(\"Jumlah data kosong setelah membersihkan kolom 'username':\")\n",
        "print(df_cleaned.isna().sum())"
      ],
      "metadata": {
        "colab": {
          "base_uri": "https://localhost:8080/"
        },
        "id": "k-YuCZ3UkHnx",
        "outputId": "d35834a6-16e9-4428-83dd-353a3dbc3980"
      },
      "execution_count": 6,
      "outputs": [
        {
          "output_type": "stream",
          "name": "stdout",
          "text": [
            "Jumlah data kosong setelah membersihkan kolom 'username':\n",
            "reviewId                    0\n",
            "userName                    0\n",
            "userImage                   0\n",
            "content                     0\n",
            "score                       0\n",
            "thumbsUpCount               0\n",
            "reviewCreatedVersion     2223\n",
            "at                          0\n",
            "replyContent            10000\n",
            "repliedAt               10000\n",
            "appVersion               2223\n",
            "dtype: int64\n"
          ]
        }
      ]
    },
    {
      "cell_type": "code",
      "source": [
        "# Definisi fungsi untuk preprocessing teks komentar\n",
        "def bersihkan_teks(teks):\n",
        "    teks = teks.lower()  # ubah ke huruf kecil\n",
        "    teks = re.sub(r'\\d+', '', teks)  # hilangkan angka\n",
        "    teks = teks.translate(str.maketrans('', '', string.punctuation))  # hapus tanda baca\n",
        "    return teks\n",
        "\n",
        "# Terapkan fungsi pembersih ke kolom 'comment' dan simpan hasilnya ke kolom baru\n",
        "df['komentar_bersih'] = df['content'].apply(bersihkan_teks)\n"
      ],
      "metadata": {
        "id": "AHkmFnw6kUgV"
      },
      "execution_count": 7,
      "outputs": []
    },
    {
      "cell_type": "markdown",
      "source": [
        "Sentimen Labeling"
      ],
      "metadata": {
        "id": "WridazMBlDyU"
      }
    },
    {
      "cell_type": "code",
      "source": [
        "# Fungsi untuk mengklasifikasikan sentimen berdasarkan polaritas\n",
        "def klasifikasi_sentimen(teks):\n",
        "    from textblob import TextBlob\n",
        "    skor = TextBlob(teks).sentiment.polarity\n",
        "    if skor > 0:\n",
        "        return 'positif'\n",
        "    elif skor < 0:\n",
        "        return 'negatif'\n",
        "    else:\n",
        "        return 'netral'\n",
        "\n",
        "# Terapkan fungsi ke kolom teks bersih untuk menghasilkan label sentimen\n",
        "df['sentimen'] = df['komentar_bersih'].apply(klasifikasi_sentimen)"
      ],
      "metadata": {
        "id": "a2n1P7XFlHzj"
      },
      "execution_count": 8,
      "outputs": []
    },
    {
      "cell_type": "markdown",
      "source": [
        "Preparasi data"
      ],
      "metadata": {
        "id": "wrGCSbuxlY3R"
      }
    },
    {
      "cell_type": "code",
      "source": [
        "# Mengubah label sentimen menjadi bentuk numerik\n",
        "encoder = LabelEncoder()\n",
        "y = encoder.fit_transform(df['sentimen'])\n",
        "X = df['komentar_bersih']\n",
        "\n",
        "# Membagi data menjadi data latih dan data uji dengan proporsi 80:20\n",
        "X_train_raw, X_test_raw, y_train, y_test = train_test_split(\n",
        "    X, y, test_size=0.2, stratify=y, random_state=42\n",
        ")"
      ],
      "metadata": {
        "id": "iThm56GylWEZ"
      },
      "execution_count": 9,
      "outputs": []
    },
    {
      "cell_type": "markdown",
      "source": [
        "3 percobaan skema pelatihan"
      ],
      "metadata": {
        "id": "XLqspUbPlqfK"
      }
    },
    {
      "cell_type": "markdown",
      "source": [
        "Percobaan 1: SVM dengan TF-IDF(80/20 split)"
      ],
      "metadata": {
        "id": "39t8rAc3l0Em"
      }
    },
    {
      "cell_type": "code",
      "source": [
        "# Transformasi teks menggunakan TF-IDF\n",
        "tfidf = TfidfVectorizer()\n",
        "X_train_vec = tfidf.fit_transform(X_train_raw)\n",
        "X_test_vec = tfidf.transform(X_test_raw)\n",
        "\n",
        "# Menyeimbangkan data latih dengan SMOTE\n",
        "sm = SMOTE(random_state=42)\n",
        "X_train_balanced, y_train_balanced = sm.fit_resample(X_train_vec, y_train)\n",
        "\n",
        "# Menampilkan distribusi label setelah penyeimbangan\n",
        "print(\"Sebaran kelas setelah SMOTE:\", Counter(y_train_balanced))"
      ],
      "metadata": {
        "colab": {
          "base_uri": "https://localhost:8080/"
        },
        "id": "F7Vn0Goilu1f",
        "outputId": "ec52a17d-9319-4ad5-8255-89a8e156ee55"
      },
      "execution_count": 10,
      "outputs": [
        {
          "output_type": "stream",
          "name": "stdout",
          "text": [
            "Sebaran kelas setelah SMOTE: Counter({np.int64(1): 7279, np.int64(2): 7279, np.int64(0): 7279})\n"
          ]
        }
      ]
    },
    {
      "cell_type": "code",
      "source": [
        "# Pembagian data 80/20\n",
        "X_train, X_test, y_train, y_test = train_test_split(X, y, test_size=0.2, random_state=42)\n",
        "\n",
        "# === Model 1: Support Vector Machine (SVM) ===\n",
        "model_svm = SVC(kernel='linear', random_state=42)\n",
        "model_svm.fit(X_train_balanced, y_train_balanced)\n",
        "\n",
        "# Prediksi menggunakan data uji\n",
        "prediksi_svm = model_svm.predict(X_test_vec)\n",
        "\n",
        "# Evaluasi performa model\n",
        "akurasi_svm = accuracy_score(y_test, prediksi_svm)\n",
        "print(\"\\nHasil Evaluasi untuk SVM:\")\n",
        "print(f\"Akurasi: {akurasi_svm:.4f}\")\n",
        "print(classification_report(y_test, prediksi_svm, target_names=['negatif', 'netral', 'positif']))\n"
      ],
      "metadata": {
        "colab": {
          "base_uri": "https://localhost:8080/"
        },
        "id": "FR74zd8T3DPV",
        "outputId": "806f4cc6-f96e-4ab3-8ba3-c7e3af9ec599"
      },
      "execution_count": 11,
      "outputs": [
        {
          "output_type": "stream",
          "name": "stdout",
          "text": [
            "\n",
            "Hasil Evaluasi untuk SVM:\n",
            "Akurasi: 0.8340\n",
            "              precision    recall  f1-score   support\n",
            "\n",
            "     negatif       0.00      0.00      0.00        20\n",
            "      netral       0.90      0.92      0.91      1808\n",
            "     positif       0.05      0.04      0.04       172\n",
            "\n",
            "    accuracy                           0.83      2000\n",
            "   macro avg       0.32      0.32      0.32      2000\n",
            "weighted avg       0.82      0.83      0.83      2000\n",
            "\n"
          ]
        }
      ]
    },
    {
      "cell_type": "markdown",
      "source": [
        "Percobaan 2: Random Forest dengan Word2Vec (80/20 split)"
      ],
      "metadata": {
        "id": "mW64ijOdmVpH"
      }
    },
    {
      "cell_type": "code",
      "source": [
        "from sklearn.model_selection import train_test_split\n",
        "\n",
        "# Pembagian data 80/20\n",
        "X_train, X_test, y_train, y_test = train_test_split(X, y, test_size=0.2, random_state=42)\n",
        "\n",
        "# === Model 2: Random Forest Classifier ===\n",
        "model_rf = RandomForestClassifier(random_state=42)\n",
        "model_rf.fit(X_train_balanced, y_train_balanced)\n",
        "\n",
        "# Melakukan prediksi pada data pengujian\n",
        "prediksi_rf = model_rf.predict(X_test_vec)\n",
        "\n",
        "# Menampilkan hasil evaluasi model\n",
        "akurasi_rf = accuracy_score(y_test, prediksi_rf)\n",
        "print(\"\\nEvaluasi Kinerja Random Forest:\")\n",
        "print(f\"Akurasi: {akurasi_rf:.4f}\")\n",
        "print(classification_report(y_test, prediksi_rf, target_names=['negatif', 'netral', 'positif']))\n"
      ],
      "metadata": {
        "colab": {
          "base_uri": "https://localhost:8080/"
        },
        "id": "b7V1D8XomgWq",
        "outputId": "684d2465-0a7d-4d88-9578-215752a0961b"
      },
      "execution_count": 12,
      "outputs": [
        {
          "output_type": "stream",
          "name": "stdout",
          "text": [
            "\n",
            "Evaluasi Kinerja Random Forest:\n",
            "Akurasi: 0.8445\n",
            "              precision    recall  f1-score   support\n",
            "\n",
            "     negatif       0.00      0.00      0.00        20\n",
            "      netral       0.90      0.93      0.92      1808\n",
            "     positif       0.05      0.04      0.05       172\n",
            "\n",
            "    accuracy                           0.84      2000\n",
            "   macro avg       0.32      0.32      0.32      2000\n",
            "weighted avg       0.82      0.84      0.83      2000\n",
            "\n"
          ]
        }
      ]
    },
    {
      "cell_type": "markdown",
      "source": [
        "Percobaan 3: Random Forest dengan TF-IDF (70/30 split)"
      ],
      "metadata": {
        "id": "_zply-zDq6gC"
      }
    },
    {
      "cell_type": "code",
      "source": [
        "from sklearn.model_selection import train_test_split\n",
        "\n",
        "# Pembagian data 70/30\n",
        "X_train, X_test, y_train, y_test = train_test_split(X, y, test_size=0.3, random_state=42)\n",
        "\n",
        "# Ekstraksi fitur TF-IDF\n",
        "vectorizer = TfidfVectorizer()\n",
        "X_train_vec = vectorizer.fit_transform(X_train)\n",
        "X_test_vec = vectorizer.transform(X_test)\n",
        "\n",
        "# Pelatihan model RF\n",
        "model_rf = RandomForestClassifier(random_state=42)\n",
        "model_rf.fit(X_train_vec, y_train)\n",
        "\n",
        "# Prediksi pada data pengujian\n",
        "prediksi_rf = model_rf.predict(X_test_vec)\n",
        "\n",
        "# Evaluasi model\n",
        "akurasi_rf = accuracy_score(y_test, prediksi_rf)\n",
        "print(\"\\nEvaluasi Kinerja Random Forest:\")\n",
        "print(f\"Akurasi: {akurasi_rf:.4f}\")\n",
        "print(classification_report(y_test, prediksi_rf, target_names=['negatif', 'netral', 'positif']))"
      ],
      "metadata": {
        "colab": {
          "base_uri": "https://localhost:8080/"
        },
        "id": "xVI7fMdVr94e",
        "outputId": "753020fe-cb25-4b3e-e123-b016f473a5ab"
      },
      "execution_count": 13,
      "outputs": [
        {
          "output_type": "stream",
          "name": "stdout",
          "text": [
            "\n",
            "Evaluasi Kinerja Random Forest:\n",
            "Akurasi: 0.9757\n",
            "              precision    recall  f1-score   support\n",
            "\n",
            "     negatif       1.00      0.04      0.07        26\n",
            "      netral       0.98      1.00      0.99      2719\n",
            "     positif       0.97      0.82      0.89       255\n",
            "\n",
            "    accuracy                           0.98      3000\n",
            "   macro avg       0.98      0.62      0.65      3000\n",
            "weighted avg       0.98      0.98      0.97      3000\n",
            "\n"
          ]
        }
      ]
    },
    {
      "cell_type": "markdown",
      "source": [
        "Inference atau testing"
      ],
      "metadata": {
        "id": "gyHHZOMVutwm"
      }
    },
    {
      "cell_type": "code",
      "source": [
        "# Membandingkan performa ketiga model berdasarkan akurasi\n",
        "skor_akurasi = {\n",
        "    'SVM': akurasi_svm,  # Get accuracy directly using .score()\n",
        "    'Random Forest': akurasi_rf,  # Changed accuracy_rf to akurasi_rf\n",
        "\n",
        "}\n",
        "\n",
        "# Menentukan model dengan akurasi tertinggi\n",
        "model_terbaik = max(skor_akurasi, key=skor_akurasi.get)\n",
        "print(f\"\\nModel dengan performa terbaik (akurasi tertinggi): {model_terbaik}\")"
      ],
      "metadata": {
        "colab": {
          "base_uri": "https://localhost:8080/"
        },
        "id": "2Q_MX-Gcuu4M",
        "outputId": "b86a9af8-56d0-4f10-d04c-9cea8a187d5f"
      },
      "execution_count": 14,
      "outputs": [
        {
          "output_type": "stream",
          "name": "stdout",
          "text": [
            "\n",
            "Model dengan performa terbaik (akurasi tertinggi): Random Forest\n"
          ]
        }
      ]
    },
    {
      "cell_type": "code",
      "source": [
        "# Membandingkan performa kedua model berdasarkan akurasi\n",
        "skor_akurasi = {\n",
        "    'SVM': akurasi_svm,  # Get accuracy directly using .score()\n",
        "    'Random Forest': akurasi_rf,  # Use 'akurasi_rf' instead of 'accuracy_rf'\n",
        "\n",
        "}\n",
        "\n",
        "# Menentukan model dengan akurasi tertinggi\n",
        "model_terbaik = max(skor_akurasi, key=skor_akurasi.get)\n",
        "print(f\"\\nModel dengan performa terbaik (akurasi tertinggi): {model_terbaik}\")\n",
        "\n",
        "# Assign the name of the best model to best_model_name\n",
        "best_model_name = model_terbaik\n",
        "\n",
        "# Latih LabelEncoder pada label asli\n",
        "label_encoder = LabelEncoder()\n",
        "label_encoder.fit(df['sentimen'])\n",
        "\n",
        "# Tentukan model terbaik berdasarkan nama yang telah dipilih\n",
        "if best_model_name == 'SVM':\n",
        "    model_terpilih = model_svm # Use the correct model variable\n",
        "    prediksi_terbaik = model_svm.predict(X_test_vec) # Use predict on correct data\n",
        "elif best_model_name == 'Random Forest':\n",
        "    model_terpilih = model_rf # Use the correct model variable\n",
        "    prediksi_terbaik = model_rf.predict(X_test_vec) # Use predict on correct data\n",
        "\n",
        "# Buat DataFrame untuk membandingkan label asli dan hasil prediksi\n",
        "hasil_klasifikasi = pd.DataFrame({\n",
        "    'Label Asli': label_encoder.inverse_transform(y_test),\n",
        "    'Label Prediksi': label_encoder.inverse_transform(prediksi_terbaik)\n",
        "})\n",
        "\n",
        "print(\"\\nHasil Perbandingan Label Asli vs Prediksi:\")\n",
        "print(hasil_klasifikasi.head())"
      ],
      "metadata": {
        "colab": {
          "base_uri": "https://localhost:8080/"
        },
        "id": "oBa5wpGxz4R-",
        "outputId": "716edfc9-d9fb-472a-fc0b-1326e3066026"
      },
      "execution_count": 15,
      "outputs": [
        {
          "output_type": "stream",
          "name": "stdout",
          "text": [
            "\n",
            "Model dengan performa terbaik (akurasi tertinggi): Random Forest\n",
            "\n",
            "Hasil Perbandingan Label Asli vs Prediksi:\n",
            "  Label Asli Label Prediksi\n",
            "0     netral         netral\n",
            "1     netral         netral\n",
            "2     netral         netral\n",
            "3     netral         netral\n",
            "4     netral         netral\n"
          ]
        }
      ]
    },
    {
      "cell_type": "code",
      "source": [
        "!pip freeze > requirements.txt"
      ],
      "metadata": {
        "id": "nAYOYWD168bw"
      },
      "execution_count": 16,
      "outputs": []
    }
  ]
}